{
  "nbformat": 4,
  "nbformat_minor": 0,
  "metadata": {
    "colab": {
      "name": "practice4.ipynb",
      "provenance": [],
      "authorship_tag": "ABX9TyOJBdLxN7VVzOTCQqzZjiRG",
      "include_colab_link": true
    },
    "kernelspec": {
      "name": "python3",
      "display_name": "Python 3"
    },
    "language_info": {
      "name": "python"
    }
  },
  "cells": [
    {
      "cell_type": "markdown",
      "metadata": {
        "id": "view-in-github",
        "colab_type": "text"
      },
      "source": [
        "<a href=\"https://colab.research.google.com/github/nishaiter/practice1-python-/blob/main/practice4.ipynb\" target=\"_parent\"><img src=\"https://colab.research.google.com/assets/colab-badge.svg\" alt=\"Open In Colab\"/></a>"
      ]
    },
    {
      "cell_type": "code",
      "metadata": {
        "colab": {
          "base_uri": "https://localhost:8080/"
        },
        "id": "8rbYE07XFaw2",
        "outputId": "db96a18c-879f-4018-80e6-5f8712ec447d"
      },
      "source": [
        "#Python Program Given a string, find the length of the longest substring without repeating characters.\n",
        "def longsubstr(str):\n",
        "    n=len(str)\n",
        "    res=0   \n",
        "    for i in range(n):\n",
        "        visited=[0]*256\n",
        "        for j in range(i,n):\n",
        "            if(visited[ord(str[j])]==True):\n",
        "                break\n",
        "            else:\n",
        "                res=max(res,j-i+1)\n",
        "                visited[ord(str[j])]=True\n",
        "        visited[ord(str[i])]=False\n",
        "    return res\n",
        "str=\"hello Everyone\"\n",
        "print(\"Input string: \",str)\n",
        "\n",
        "len=longsubstr(str)\n",
        "print(\"Length of longest substring without non-repeating characters: \",len)"
      ],
      "execution_count": 3,
      "outputs": [
        {
          "output_type": "stream",
          "name": "stdout",
          "text": [
            "Input string:  hello Everyone\n",
            "Length of longest substring without non-repeating characters:  8\n"
          ]
        }
      ]
    },
    {
      "cell_type": "code",
      "metadata": {
        "colab": {
          "base_uri": "https://localhost:8080/"
        },
        "id": "OBxmpPleFq78",
        "outputId": "1300362b-6395-43be-cadd-b79860fb3b22"
      },
      "source": [
        "#write a program to calculate exponents of an input\n",
        "num = int(input(\"Please Enter any Positive Integer : \"))\n",
        "exponent = int(input(\"Please Enter Exponent Value : \"))\n",
        "power = 1\n",
        "\n",
        "for i in range(1, exponent + 1):\n",
        "    power = power * num\n",
        "    \n",
        "print(\"The Result of {0} Power {1} = {2}\".format(num, exponent, power))"
      ],
      "execution_count": 4,
      "outputs": [
        {
          "output_type": "stream",
          "name": "stdout",
          "text": [
            "Please Enter any Positive Integer : 3\n",
            "Please Enter Exponent Value : 2\n",
            "The Result of 3 Power 2 = 9\n"
          ]
        }
      ]
    },
    {
      "cell_type": "code",
      "metadata": {
        "colab": {
          "base_uri": "https://localhost:8080/"
        },
        "id": "G9rMd27wFxxa",
        "outputId": "b4bdcd2e-1ea2-4087-ff4a-5e69608bb428"
      },
      "source": [
        "#write a program to find and print the remainder of two number\n",
        "def find(n, m):\n",
        "    r = n%m\n",
        "    print(\"Remainder\", r)\n",
        "find(10, 3)"
      ],
      "execution_count": 5,
      "outputs": [
        {
          "output_type": "stream",
          "name": "stdout",
          "text": [
            "Remainder 1\n"
          ]
        }
      ]
    },
    {
      "cell_type": "code",
      "metadata": {
        "colab": {
          "base_uri": "https://localhost:8080/"
        },
        "id": "S38mw2DoF8Cl",
        "outputId": "e065b78f-e35c-4e73-ee35-2b50d4ec4044"
      },
      "source": [
        "#Python program to Sort the list in ascending order\n",
        "str = [\"neha\",\"nisha\",\"Aisha\",\"nishaant\",\"Anusha\"]\n",
        "str.sort()\n",
        "print(str)"
      ],
      "execution_count": 6,
      "outputs": [
        {
          "output_type": "stream",
          "name": "stdout",
          "text": [
            "['Aisha', 'Anusha', 'neha', 'nisha', 'nishaant']\n"
          ]
        }
      ]
    },
    {
      "cell_type": "code",
      "metadata": {
        "colab": {
          "base_uri": "https://localhost:8080/"
        },
        "id": "mJ2Qql6_GPtB",
        "outputId": "439dac8c-2d63-462b-8d27-f8e1553b87ca"
      },
      "source": [
        "#Program to swap two variables\n",
        "x = 5\n",
        "y = 10\n",
        "temp = x\n",
        "x = y\n",
        "y = temp\n",
        "print('The value of x after swapping: {}'.format(x))\n",
        "print('The value of y after swapping: {}'.format(y))"
      ],
      "execution_count": 7,
      "outputs": [
        {
          "output_type": "stream",
          "name": "stdout",
          "text": [
            "The value of x after swapping: 10\n",
            "The value of y after swapping: 5\n"
          ]
        }
      ]
    },
    {
      "cell_type": "code",
      "metadata": {
        "colab": {
          "base_uri": "https://localhost:8080/"
        },
        "id": "B_BjJVuqGtZR",
        "outputId": "14ea5366-9d5f-4e7e-9bbe-c0f132f6475d"
      },
      "source": [
        "#Python Program to Count the Number of Each Vowel Using a list and a dictionary comprehension\n",
        "mystr=\"Hello, have you tried our tutorial section yet?\"\n",
        "mystr=mystr.casefold()\n",
        "count={x:sum([1 for char in mystr if char==x])for x in \"aeiou\"}\n",
        "print(count)"
      ],
      "execution_count": 8,
      "outputs": [
        {
          "output_type": "stream",
          "name": "stdout",
          "text": [
            "{'a': 2, 'e': 5, 'i': 3, 'o': 5, 'u': 3}\n"
          ]
        }
      ]
    }
  ]
}