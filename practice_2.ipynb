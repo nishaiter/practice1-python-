{
  "nbformat": 4,
  "nbformat_minor": 0,
  "metadata": {
    "colab": {
      "name": "practice 2.ipynb",
      "provenance": [],
      "collapsed_sections": [],
      "authorship_tag": "ABX9TyPLiHOebJj2J06uXWpsBYLq",
      "include_colab_link": true
    },
    "kernelspec": {
      "name": "python3",
      "display_name": "Python 3"
    },
    "language_info": {
      "name": "python"
    }
  },
  "cells": [
    {
      "cell_type": "markdown",
      "metadata": {
        "id": "view-in-github",
        "colab_type": "text"
      },
      "source": [
        "<a href=\"https://colab.research.google.com/github/nishaiter/practice1-python-/blob/main/practice_2.ipynb\" target=\"_parent\"><img src=\"https://colab.research.google.com/assets/colab-badge.svg\" alt=\"Open In Colab\"/></a>"
      ]
    },
    {
      "cell_type": "markdown",
      "metadata": {
        "id": "DXIvmlgbfIj8"
      },
      "source": [
        "**check no. is odd or even**"
      ]
    },
    {
      "cell_type": "code",
      "metadata": {
        "colab": {
          "base_uri": "https://localhost:8080/"
        },
        "id": "ymUAPk4afPyx",
        "outputId": "276b6b6c-6102-4ed6-d8ba-e5ef4f18339a"
      },
      "source": [
        "num = int(input(\"Enter a number: \"))\n",
        "if (num % 2) == 0:\n",
        "   print(\"{0} is Even\".format(num))\n",
        "else:\n",
        "   print(\"{0} is Odd\".format(num))"
      ],
      "execution_count": 1,
      "outputs": [
        {
          "output_type": "stream",
          "text": [
            "Enter a number: 8\n",
            "8 is Even\n"
          ],
          "name": "stdout"
        }
      ]
    },
    {
      "cell_type": "markdown",
      "metadata": {
        "id": "_IX7UIRUfeQB"
      },
      "source": [
        "**check leap year**"
      ]
    },
    {
      "cell_type": "code",
      "metadata": {
        "colab": {
          "base_uri": "https://localhost:8080/"
        },
        "id": "erGCkkX0fhv9",
        "outputId": "618bebfd-8be5-4618-d7d8-f19e68bdea21"
      },
      "source": [
        "year = int(input(\"Enter a year: \"))\n",
        "\n",
        "if (year % 4) == 0:\n",
        "   if (year % 100) == 0:\n",
        "       if (year % 400) == 0:\n",
        "           print(\"{0} is a leap year\".format(year))\n",
        "       else:\n",
        "           print(\"{0} is not a leap year\".format(year))\n",
        "   else:\n",
        "       print(\"{0} is a leap year\".format(year))\n",
        "else:\n",
        "   print(\"{0} is not a leap year\".format(year))"
      ],
      "execution_count": 3,
      "outputs": [
        {
          "output_type": "stream",
          "text": [
            "Enter a year: 2000\n",
            "2000 is a leap year\n"
          ],
          "name": "stdout"
        }
      ]
    },
    {
      "cell_type": "markdown",
      "metadata": {
        "id": "8A7ZEkCDf_u5"
      },
      "source": [
        "**Find largest amoung three numbers**"
      ]
    },
    {
      "cell_type": "code",
      "metadata": {
        "colab": {
          "base_uri": "https://localhost:8080/"
        },
        "id": "8ZkLiQVtiW2u",
        "outputId": "a559547d-6b2b-42af-8b50-526cd9a1a20f"
      },
      "source": [
        "num1 = float(input(\"Enter first number: \"))\n",
        "num2 = float(input(\"Enter second number: \"))\n",
        "num3 = float(input(\"Enter third number: \"))\n",
        "\n",
        "if (num1 >= num2) and (num1 >= num3):\n",
        "   largest = num1\n",
        "elif (num2 >= num1) and (num2 >= num3):\n",
        "   largest = num2\n",
        "else:\n",
        "   largest = num3\n",
        "\n",
        "print(\"The largest number is\", largest)"
      ],
      "execution_count": 4,
      "outputs": [
        {
          "output_type": "stream",
          "text": [
            "Enter first number: 3\n",
            "Enter second number: 5\n",
            "Enter third number: 1\n",
            "The largest number is 5.0\n"
          ],
          "name": "stdout"
        }
      ]
    },
    {
      "cell_type": "markdown",
      "metadata": {
        "id": "wAHP2AtUos8u"
      },
      "source": [
        "**Check no. is prime no. or not**"
      ]
    },
    {
      "cell_type": "code",
      "metadata": {
        "colab": {
          "base_uri": "https://localhost:8080/"
        },
        "id": "jmF-Lek8oypM",
        "outputId": "0e5f4937-4ef0-44dd-9d8a-4b2e02995b6c"
      },
      "source": [
        "num = int(input(\"Enter a number: \"))\n",
        "flag = False\n",
        "if num > 1:\n",
        "    for i in range(2, num):\n",
        "        if (num % i) == 0:\n",
        "            flag = True\n",
        "            break\n",
        "\n",
        "if flag:\n",
        "    print(num, \"is not a prime number\")\n",
        "else:\n",
        "    print(num, \"is a prime number\")"
      ],
      "execution_count": 5,
      "outputs": [
        {
          "output_type": "stream",
          "text": [
            "Enter a number: 7\n",
            "7 is a prime number\n"
          ],
          "name": "stdout"
        }
      ]
    },
    {
      "cell_type": "markdown",
      "metadata": {
        "id": "_d6BqXn-tlID"
      },
      "source": [
        "**Python program to display all the prime numbers within an interval**"
      ]
    },
    {
      "cell_type": "code",
      "metadata": {
        "colab": {
          "base_uri": "https://localhost:8080/"
        },
        "id": "f01zHC9KtlaZ",
        "outputId": "d8f2b2a0-a275-43c8-d217-d1d5eced016b"
      },
      "source": [
        "lower = 900\n",
        "upper = 1000\n",
        "\n",
        "print(\"Prime numbers between\", lower, \"and\", upper, \"are:\")\n",
        "for num in range(lower, upper + 1):\n",
        "   if num > 1:\n",
        "       for i in range(2, num):\n",
        "           if (num % i) == 0:\n",
        "               break\n",
        "       else:\n",
        "           print(num)"
      ],
      "execution_count": 6,
      "outputs": [
        {
          "output_type": "stream",
          "text": [
            "Prime numbers between 900 and 1000 are:\n",
            "907\n",
            "911\n",
            "919\n",
            "929\n",
            "937\n",
            "941\n",
            "947\n",
            "953\n",
            "967\n",
            "971\n",
            "977\n",
            "983\n",
            "991\n",
            "997\n"
          ],
          "name": "stdout"
        }
      ]
    }
  ]
}