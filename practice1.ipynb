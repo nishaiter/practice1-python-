{
  "nbformat": 4,
  "nbformat_minor": 5,
  "metadata": {
    "kernelspec": {
      "display_name": "Python 3",
      "language": "python",
      "name": "python3"
    },
    "language_info": {
      "codemirror_mode": {
        "name": "ipython",
        "version": 3
      },
      "file_extension": ".py",
      "mimetype": "text/x-python",
      "name": "python",
      "nbconvert_exporter": "python",
      "pygments_lexer": "ipython3",
      "version": "3.8.8"
    },
    "colab": {
      "name": "practice1.ipynb",
      "provenance": [],
      "collapsed_sections": [],
      "toc_visible": true,
      "include_colab_link": true
    }
  },
  "cells": [
    {
      "cell_type": "markdown",
      "metadata": {
        "id": "view-in-github",
        "colab_type": "text"
      },
      "source": [
        "<a href=\"https://colab.research.google.com/github/nishaiter/practice1-python-/blob/main/practice1.ipynb\" target=\"_parent\"><img src=\"https://colab.research.google.com/assets/colab-badge.svg\" alt=\"Open In Colab\"/></a>"
      ]
    },
    {
      "cell_type": "code",
      "metadata": {
        "colab": {
          "base_uri": "https://localhost:8080/"
        },
        "id": "e107ba13",
        "outputId": "8fe7cacd-2cfd-4388-e087-f1a01c1ca5fb"
      },
      "source": [
        "kilo = float(input(\"Enter the kilometer\"))\n",
        "meter= kilo*1000.0\n",
        "print('%0.2f kilometer is equal to %0.2f meters'%(kilo,meter))"
      ],
      "id": "e107ba13",
      "execution_count": null,
      "outputs": [
        {
          "output_type": "stream",
          "text": [
            "Enter the kilometer2\n",
            "2.00 kilometer is equal to 2000.00 meters\n"
          ],
          "name": "stdout"
        }
      ]
    },
    {
      "cell_type": "markdown",
      "metadata": {
        "id": "eMbOXJoJ-UAa"
      },
      "source": [
        "**celsius to fehrenheit**"
      ],
      "id": "eMbOXJoJ-UAa"
    },
    {
      "cell_type": "code",
      "metadata": {
        "colab": {
          "base_uri": "https://localhost:8080/"
        },
        "id": "4ee06aac",
        "outputId": "bcfee535-50fc-4604-faff-e1404c0384fc"
      },
      "source": [
        "celsius =float(input(\"Enter temperture in celsius\"))\n",
        "fehrenheit=(celsius*1.8)+32\n",
        "print('%0.1f Celsius is equal to %0.1f degree Fahrenheit'%(celsius,fehrenheit))"
      ],
      "id": "4ee06aac",
      "execution_count": null,
      "outputs": [
        {
          "output_type": "stream",
          "text": [
            "Enter temperture in celsius37\n",
            "37.0 Celsius is equal to 98.6 degree Fahrenheit\n"
          ],
          "name": "stdout"
        }
      ]
    },
    {
      "cell_type": "markdown",
      "metadata": {
        "id": "GwlQlf7C_jdB"
      },
      "source": [
        "**check if the no. is positive,negative or 0**"
      ],
      "id": "GwlQlf7C_jdB"
    },
    {
      "cell_type": "code",
      "metadata": {
        "id": "dOY8MlMU_0lh",
        "colab": {
          "base_uri": "https://localhost:8080/"
        },
        "outputId": "9b6386ab-41f5-453a-9cb9-42642fe01724"
      },
      "source": [
        "num = float(input(\"enter the number\"))\n",
        "if(num>0):\n",
        "  print(\"positive\")\n",
        "elif num==0:\n",
        "  print(\"zero\")\n",
        "else:\n",
        "  print(\"negative\")\n"
      ],
      "id": "dOY8MlMU_0lh",
      "execution_count": 1,
      "outputs": [
        {
          "output_type": "stream",
          "text": [
            "enter the number9\n",
            "positive\n"
          ],
          "name": "stdout"
        }
      ]
    }
  ]
}