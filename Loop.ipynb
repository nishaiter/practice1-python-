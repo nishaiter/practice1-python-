{
  "nbformat": 4,
  "nbformat_minor": 0,
  "metadata": {
    "colab": {
      "name": "Loop.ipynb",
      "provenance": [],
      "authorship_tag": "ABX9TyPKRuR/KFT/R1oh1JaQDkGU",
      "include_colab_link": true
    },
    "kernelspec": {
      "name": "python3",
      "display_name": "Python 3"
    },
    "language_info": {
      "name": "python"
    }
  },
  "cells": [
    {
      "cell_type": "markdown",
      "metadata": {
        "id": "view-in-github",
        "colab_type": "text"
      },
      "source": [
        "<a href=\"https://colab.research.google.com/github/nishaiter/practice1-python-/blob/main/Loop.ipynb\" target=\"_parent\"><img src=\"https://colab.research.google.com/assets/colab-badge.svg\" alt=\"Open In Colab\"/></a>"
      ]
    },
    {
      "cell_type": "code",
      "metadata": {
        "colab": {
          "base_uri": "https://localhost:8080/"
        },
        "id": "xSIvSz2k4jzi",
        "outputId": "e8e4b7a3-d3f3-42c8-85f6-b68ef3d6176e"
      },
      "source": [
        "li=[1,2,3,4,5,6,7,8,9,10]\n",
        "length=len(li)\n",
        "j=0\n",
        "while length>=5:\n",
        "    j=j+1\n",
        "    length=length-1\n",
        "    continue\n",
        "    print(length)\n",
        "    if length==6:\n",
        "        break\n",
        "print(j)"
      ],
      "execution_count": 2,
      "outputs": [
        {
          "output_type": "stream",
          "name": "stdout",
          "text": [
            "6\n"
          ]
        }
      ]
    },
    {
      "cell_type": "code",
      "metadata": {
        "colab": {
          "base_uri": "https://localhost:8080/"
        },
        "id": "XPoil3o54zEg",
        "outputId": "03f7a985-0bfa-48fe-e3e1-fd011d5dc1d1"
      },
      "source": [
        "#WAP to check grade for user input marks\n",
        "\n",
        "marks=int(input(\"Enter your total Marks: \"))\n",
        "if marks>=90:\n",
        "    print('Grade O')\n",
        "elif marks>=80 and marks<90:\n",
        "    print('Grade E')\n",
        "elif marks>=70 and marks<80:\n",
        "    print('Grade A')\n",
        "elif marks>=60 and marks<70:\n",
        "    print('Grade B')\n",
        "elif marks>=50 and marks<60:\n",
        "    print('Grade c')\n",
        "elif marks>=40 and marks<50:\n",
        "    print('Grade D')\n",
        "else:\n",
        "    print('Fail')"
      ],
      "execution_count": 3,
      "outputs": [
        {
          "output_type": "stream",
          "name": "stdout",
          "text": [
            "Enter your total Marks: 60\n",
            "Grade B\n"
          ]
        }
      ]
    },
    {
      "cell_type": "code",
      "metadata": {
        "colab": {
          "base_uri": "https://localhost:8080/"
        },
        "id": "AKVdRTDJDfs3",
        "outputId": "31fb7361-34a5-4da6-da64-412862a90083"
      },
      "source": [
        "#WAP to print a multiplication table for a number given by user\n",
        "l=int(input(\"Enter the number for your multiplication table :\"))\n",
        "for i in range(2,11):\n",
        "    c=l*i\n",
        "    print(l,\"*\",i,\"=\",c)"
      ],
      "execution_count": 4,
      "outputs": [
        {
          "output_type": "stream",
          "name": "stdout",
          "text": [
            "Enter the number for your multiplication table :2\n",
            "2 * 2 = 4\n",
            "2 * 3 = 6\n",
            "2 * 4 = 8\n",
            "2 * 5 = 10\n",
            "2 * 6 = 12\n",
            "2 * 7 = 14\n",
            "2 * 8 = 16\n",
            "2 * 9 = 18\n",
            "2 * 10 = 20\n"
          ]
        }
      ]
    },
    {
      "cell_type": "code",
      "metadata": {
        "colab": {
          "base_uri": "https://localhost:8080/"
        },
        "id": "Z02m5JyvDkFH",
        "outputId": "c8996629-cbf8-4612-e2bb-813c85a78702"
      },
      "source": [
        "rows=int(input(\"Enter rows: \"))\n",
        "for i in range (0,rows+1):\n",
        "    for j in range(i):\n",
        "        print(\"*\",end='')\n",
        "    print()"
      ],
      "execution_count": 6,
      "outputs": [
        {
          "output_type": "stream",
          "name": "stdout",
          "text": [
            "Enter rows: 5\n",
            "\n",
            "*\n",
            "**\n",
            "***\n",
            "****\n",
            "*****\n"
          ]
        }
      ]
    },
    {
      "cell_type": "code",
      "metadata": {
        "colab": {
          "base_uri": "https://localhost:8080/"
        },
        "id": "_3RZ5nK1Dzfn",
        "outputId": "2119f420-9b98-404b-9873-3a575e866446"
      },
      "source": [
        "rows=int(input(\"Enter the number of rows: \"))\n",
        "for i in range(0,rows+1):\n",
        "    for j in range(i):\n",
        "        print(i,end='')\n",
        "    print()"
      ],
      "execution_count": 7,
      "outputs": [
        {
          "output_type": "stream",
          "name": "stdout",
          "text": [
            "Enter the number of rows: 5\n",
            "\n",
            "1\n",
            "22\n",
            "333\n",
            "4444\n",
            "55555\n"
          ]
        }
      ]
    }
  ]
}